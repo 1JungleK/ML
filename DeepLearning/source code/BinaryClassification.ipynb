{
 "cells": [
  {
   "cell_type": "markdown",
   "source": [
    "### 目标：判断图像中的主题cat or not: 1(cat) vs 0 (not cat) 1或0作为Label y\n",
    "模型输入：RGB三通道色彩矩阵 展开为一个向量x 作为算法的输入 （将三个通道中的像素值依次放入向量x中）\n",
    "例:\n",
    "![demo_1](\\D:\\Jupyter%20Notebook%20Files\\DeepLearning\\images\\1.png)\n",
    "\n",
    "\n"
   ],
   "metadata": {
    "collapsed": false
   }
  },
  {
   "cell_type": "markdown",
   "source": [
    "特征矩阵：将每个训练样本的特征作为矩阵的一列向量，若训练集中有m个样本，每个样本有n维特征，则特征矩阵的维度为n * m。 In Python, X.shape = (n, m)\n",
    "\n",
    "标签矩阵：针对m个样本的标签（一个行向量） In Python, Y.shape = (1, m)\n",
    "\n",
    "表示习惯：\n",
    "- 单个训练样本的特征：x (小写x）, 维数为：$n_x$\n",
    "- 特征矩阵：X\n",
    "- 单个样本的Label: y\n",
    "- Label矩阵: Y"
   ],
   "metadata": {
    "collapsed": false
   }
  },
  {
   "cell_type": "markdown",
   "source": [
    "### Logistic Regression\n",
    "Given x, want y_hat = P(y=1|x). $x \\in R^{n_X}$\n",
    "\n",
    "Parameters: $w \\in R^{n_X}$, $b \\in R$\n",
    "\n",
    "Output: $\\hat{y} = \\sigma (w^T x + b)$"
   ],
   "metadata": {
    "collapsed": false
   }
  },
  {
   "cell_type": "code",
   "execution_count": 4,
   "outputs": [
    {
     "data": {
      "text/plain": "<Figure size 640x480 with 1 Axes>",
      "image/png": "[encoded data removed]"
     },
     "metadata": {},
     "output_type": "display_data"
    }
   ],
   "source": [
    "# sigmoid function 将Logistic Regression的输出结果挤压在-1, 1 之间\n",
    "\n",
    "import numpy as np\n",
    "import matplotlib.pyplot as plt\n",
    "\n",
    "x = np.arange(-5, 5, 0.1)\n",
    "y= 1 / (1 + np.exp(-x))\n",
    "\n",
    "plt.plot(x, y)\n",
    "plt.title('Sigmoid Function')\n",
    "plt.show()"
   ],
   "metadata": {
    "collapsed": false,
    "ExecuteTime": {
     "start_time": "2023-06-29T16:47:45.338342Z",
     "end_time": "2023-06-29T16:47:45.608090Z"
    }
   }
  },
  {
   "cell_type": "markdown",
   "source": [
    "## Logistic Regression cost function\n",
    "\n",
    "Loss Function (for single sample):\n",
    "$$ L(\\hat{y}, y) = -(ylog\\hat{y} + (1-y)log(1 - \\hat{y}))$$\n",
    "\n",
    "Cost Function (for all samples):\n",
    "$$ J(w, b) = \\frac{1}{m} \\sum_{i=1}^m L(\\hat{y}^{(i)}, y^{(i)})$$\n",
    "`Resolved in Notes`\n",
    "\n"
   ],
   "metadata": {
    "collapsed": false
   }
  },
  {
   "cell_type": "markdown",
   "source": [
    "## Gradiant Descent\n",
    "Parameters: Learning rate($\\alpha)$, gradient ($dw, db$)\n",
    "\n",
    "When gradiant descent, repeat the $ w' = w - \\alpha * dw$ and $ b' = b - \\alpha * db$\n",
    "\n",
    "- For Logistic Regression, zero initialization are useful.\n",
    "\n",
    "## Computation Graph (The chain rule)\n",
    "\n",
    "## Gradiant descent in Logistic Regression\n",
    "`Resolved in Notes`"
   ],
   "metadata": {
    "collapsed": false
   }
  },
  {
   "cell_type": "markdown",
   "source": [
    "## Gradiant descent on m samples\n",
    "\n",
    "$$\\frac {\\partial}{\\partial w_1} J(w,b) = \\frac {1}{m} \\sum_{i=1}^{m} \\frac {\\partial}{\\partial w_1} L(\\hat{y}^{(i)}, y^{(i)})$$\n",
    "\n",
    "\n",
    "## Vectorization  (Compute with Numpy)"
   ],
   "metadata": {
    "collapsed": false
   }
  },
  {
   "cell_type": "code",
   "execution_count": 28,
   "outputs": [
    {
     "name": "stdout",
     "output_type": "stream",
     "text": [
      "249934.13689874485\n",
      "Vectorized version:1.0063648223876953ms\n",
      "249934.13689874345\n",
      "For loop version:398.7457752227783ms\n"
     ]
    }
   ],
   "source": [
    "import numpy as np\n",
    "import time\n",
    "\n",
    "# The contrast between normal computation and Vectorized computation\n",
    "\n",
    "a = np.random.rand(1000000)\n",
    "b = np.random.rand(1000000)\n",
    "\n",
    "tic = time.time()\n",
    "c = np.dot(a, b)\n",
    "toc = time.time()\n",
    "\n",
    "print(c)\n",
    "print('Vectorized version:' + str(1000 * (toc - tic)) + 'ms')\n",
    "\n",
    "c = 0\n",
    "tic = time.time()\n",
    "\n",
    "for i in range(1000000):\n",
    "    c += a[i] * b[i]\n",
    "\n",
    "toc = time.time()\n",
    "\n",
    "print(c)\n",
    "print('For loop version:' + str(1000 * (toc - tic)) + 'ms')\n",
    "\n",
    "# Thus, whenever possible avoid explicit for-loops!!!"
   ],
   "metadata": {
    "collapsed": false,
    "ExecuteTime": {
     "start_time": "2023-06-29T17:36:38.691990Z",
     "end_time": "2023-06-29T17:36:39.141051Z"
    }
   }
  },
  {
   "cell_type": "markdown",
   "source": [
    "## Vectorized Logistic Regression\n",
    "![demo_2](\\D:\\Jupyter%20Notebook%20Files\\DeepLearning\\images\\2.png)"
   ],
   "metadata": {
    "collapsed": false
   }
  },
  {
   "cell_type": "markdown",
   "source": [
    "## Python - Numpy 中的向量问题"
   ],
   "metadata": {
    "collapsed": false
   }
  },
  {
   "cell_type": "code",
   "execution_count": 29,
   "outputs": [
    {
     "name": "stdout",
     "output_type": "stream",
     "text": [
      "[ 1.39970143  0.63102193 -0.32965428  1.07805496 -1.32570929]\n",
      "(5,)\n"
     ]
    }
   ],
   "source": [
    "import numpy as np\n",
    "\n",
    "a = np.random.randn(5) # wired dataframe\n",
    "print(a)\n",
    "print(a.shape)"
   ],
   "metadata": {
    "collapsed": false,
    "ExecuteTime": {
     "start_time": "2023-06-29T17:56:17.922172Z",
     "end_time": "2023-06-29T17:56:17.933320Z"
    }
   }
  },
  {
   "cell_type": "code",
   "execution_count": 30,
   "outputs": [
    {
     "name": "stdout",
     "output_type": "stream",
     "text": [
      "[ 1.39970143  0.63102193 -0.32965428  1.07805496 -1.32570929]\n"
     ]
    }
   ],
   "source": [
    "print(a.T)"
   ],
   "metadata": {
    "collapsed": false,
    "ExecuteTime": {
     "start_time": "2023-06-29T17:57:05.361076Z",
     "end_time": "2023-06-29T17:57:05.367759Z"
    }
   }
  },
  {
   "cell_type": "code",
   "execution_count": 31,
   "outputs": [
    {
     "name": "stdout",
     "output_type": "stream",
     "text": [
      "5.385732328886448\n"
     ]
    }
   ],
   "source": [
    "print(np.dot(a, a.T))"
   ],
   "metadata": {
    "collapsed": false,
    "ExecuteTime": {
     "start_time": "2023-06-29T17:57:29.749793Z",
     "end_time": "2023-06-29T17:57:29.754207Z"
    }
   }
  },
  {
   "cell_type": "code",
   "execution_count": 36,
   "outputs": [
    {
     "name": "stdout",
     "output_type": "stream",
     "text": [
      "[[-0.8062771 ]\n",
      " [ 0.82431829]\n",
      " [-0.5331395 ]\n",
      " [-0.70690524]\n",
      " [-0.62188701]]\n",
      "(5, 1)\n"
     ]
    }
   ],
   "source": [
    "# Recommendation:\n",
    "b = np.random.randn(5, 1)\n",
    "print(b)\n",
    "print(b.shape)"
   ],
   "metadata": {
    "collapsed": false,
    "ExecuteTime": {
     "start_time": "2023-06-29T18:00:16.411806Z",
     "end_time": "2023-06-29T18:00:16.421158Z"
    }
   }
  },
  {
   "cell_type": "code",
   "execution_count": 37,
   "outputs": [
    {
     "name": "stdout",
     "output_type": "stream",
     "text": [
      "[[-0.8062771   0.82431829 -0.5331395  -0.70690524 -0.62188701]]\n",
      "(1, 5)\n"
     ]
    }
   ],
   "source": [
    "print(b.T)\n",
    "print(b.T.shape)"
   ],
   "metadata": {
    "collapsed": false,
    "ExecuteTime": {
     "start_time": "2023-06-29T18:00:28.274127Z",
     "end_time": "2023-06-29T18:00:28.288995Z"
    }
   }
  },
  {
   "cell_type": "code",
   "execution_count": 34,
   "outputs": [
    {
     "name": "stdout",
     "output_type": "stream",
     "text": [
      "[[ 0.51558188  0.18862573 -0.68242886  1.23736388 -0.80435996]\n",
      " [ 0.18862573  0.06900876 -0.24966673  0.45268981 -0.29427525]\n",
      " [-0.68242886 -0.24966673  0.90326903 -1.63778607  1.06465815]\n",
      " [ 1.23736388  0.45268981 -1.63778607  2.96959499 -1.93041299]\n",
      " [-0.80435996 -0.29427525  1.06465815 -1.93041299  1.25488302]]\n"
     ]
    }
   ],
   "source": [
    "print(np.dot(b, b.T))"
   ],
   "metadata": {
    "collapsed": false,
    "ExecuteTime": {
     "start_time": "2023-06-29T17:59:10.340418Z",
     "end_time": "2023-06-29T17:59:10.352255Z"
    }
   }
  },
  {
   "cell_type": "code",
   "execution_count": 39,
   "outputs": [
    {
     "ename": "AssertionError",
     "evalue": "",
     "output_type": "error",
     "traceback": [
      "\u001B[1;31m---------------------------------------------------------------------------\u001B[0m",
      "\u001B[1;31mAssertionError\u001B[0m                            Traceback (most recent call last)",
      "Cell \u001B[1;32mIn[39], line 2\u001B[0m\n\u001B[0;32m      1\u001B[0m \u001B[38;5;66;03m# 判断某个向量的维度\u001B[39;00m\n\u001B[1;32m----> 2\u001B[0m \u001B[38;5;28;01massert\u001B[39;00m (b\u001B[38;5;241m.\u001B[39mshape \u001B[38;5;241m==\u001B[39m (\u001B[38;5;241m1\u001B[39m, \u001B[38;5;241m5\u001B[39m))\n",
      "\u001B[1;31mAssertionError\u001B[0m: "
     ]
    }
   ],
   "source": [
    "# 判断某个向量的维度\n",
    "assert (b.shape == (1, 5))"
   ],
   "metadata": {
    "collapsed": false,
    "ExecuteTime": {
     "start_time": "2023-06-29T18:01:10.557288Z",
     "end_time": "2023-06-29T18:01:10.565379Z"
    }
   }
  },
  {
   "cell_type": "markdown",
   "source": [
    "## Neural Network Overview\n",
    " 右上角方括号表示NN层数\n",
    "\n",
    "- Input Layer\n",
    "- Hidden Layer\n",
    "- Output Layer\n",
    "\n",
    "在计算神经网络层数时，不包括输入层。即单隐含层的神经网络层数为 2"
   ],
   "metadata": {
    "collapsed": false
   }
  },
  {
   "cell_type": "markdown",
   "source": [
    "## Computing a Neural Network's output\n",
    "For a node (Sigmoid function as activation function):\n",
    "1. $z = w^T x + b$\n",
    "2. $a = \\sigma (z)$\n",
    "\n",
    "![demo_3](\\D:\\Jupyter%20Notebook%20Files\\DeepLearning\\images\\3.png)\n",
    "\n",
    "## Vectorized computation:\n",
    "![demo_4](\\D:\\Jupyter%20Notebook%20Files\\DeepLearning\\images\\4.png)\n",
    "结果中的四维向量被称为$Z^{[1]}$，且$a^{[1]} = \\sigma(Z^{[1]})$\n",
    "\n",
    "## Overview\n",
    "![demo_5](\\D:\\Jupyter%20Notebook%20Files\\DeepLearning\\images\\5.png)"
   ],
   "metadata": {
    "collapsed": false
   }
  },
  {
   "cell_type": "markdown",
   "source": [
    "## Computation on multiple samples\n",
    "![demo_6](\\D:\\Jupyter%20Notebook%20Files\\DeepLearning\\images\\6.png)"
   ],
   "metadata": {
    "collapsed": false
   }
  },
  {
   "cell_type": "markdown",
   "source": [
    "## Activation Function\n",
    "1. Sigmoid function: $g(z) = \\frac{1}{1+e^{-z}}$\n",
    "2. Hyperbolic tangent function(Shifted sigmoid function) `Ranged -1 and 1` ,  $g(z) = tanh(z) = \\frac{e^{z}-e^{-z}}{e^{z}+e^{-z}}$\n",
    "3. ReLU function (Rectified Linear Unit)\n",
    "4. Leaky ReLU function\n",
    "\n",
    "Tips:\n",
    "- Never use the `sigmoid function` as activation unless at output layer for a binary classification problem\n",
    "- It's common to use Relu function as a default option\n",
    "\n",
    "\n",
    "## Derivative of activation functions\n",
    "1.For sigmoid function, $\\frac{d}{dz}g(Z) = g(z)(1-g(z))$\n",
    "2.For tanh(z),  $\\frac{d}{dz}g(Z) = 1 - (tanh(z))^2$"
   ],
   "metadata": {
    "collapsed": false
   }
  },
  {
   "cell_type": "markdown",
   "source": [
    "## Gradient descent in Neural Network\n"
   ],
   "metadata": {
    "collapsed": false
   }
  },
  {
   "cell_type": "markdown",
   "source": [
    "## Random Initialization\n",
    "- The weights of all nodes will be the same if we implement the zero initialization!\n",
    "- Thus, we use the random initialization"
   ],
   "metadata": {
    "collapsed": false
   }
  },
  {
   "cell_type": "code",
   "execution_count": 12,
   "outputs": [
    {
     "name": "stdout",
     "output_type": "stream",
     "text": [
      "[[-0.0125078 ]\n",
      " [ 0.00542408]]\n",
      "[[0.]\n",
      " [0.]]\n"
     ]
    }
   ],
   "source": [
    "import numpy as np\n",
    "\n",
    "w1 = np.random.randn(2, 1) * 0.01\n",
    "b1 = np.zeros((2, 1))\n",
    "\n",
    "print(w1)\n",
    "print(b1)"
   ],
   "metadata": {
    "collapsed": false,
    "ExecuteTime": {
     "start_time": "2023-07-07T17:12:56.196941Z",
     "end_time": "2023-07-07T17:12:56.209406Z"
    }
   }
  },
  {
   "cell_type": "markdown",
   "source": [
    "## Deep Neural Network\n"
   ],
   "metadata": {
    "collapsed": false
   }
  }
 ],
 "metadata": {
  "kernelspec": {
   "display_name": "Python 3",
   "language": "python",
   "name": "python3"
  },
  "language_info": {
   "codemirror_mode": {
    "name": "ipython",
    "version": 2
   },
   "file_extension": ".py",
   "mimetype": "text/x-python",
   "name": "python",
   "nbconvert_exporter": "python",
   "pygments_lexer": "ipython2",
   "version": "2.7.6"
  }
 },
 "nbformat": 4,
 "nbformat_minor": 0
}
